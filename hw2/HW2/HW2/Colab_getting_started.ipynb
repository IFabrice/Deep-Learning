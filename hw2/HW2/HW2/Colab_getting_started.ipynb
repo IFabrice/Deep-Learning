{
 "cells": [
  {
   "cell_type": "markdown",
   "metadata": {
    "id": "t0-VXSCM7avd"
   },
   "source": [
    "# Colab Getting Started!\n",
    "\n",
    "This notebook is designed to make sure you can run google colaboratory. We will need and re-use this set-up later in the class (Lecture 9) so it's a good idea to run it once. \n"
   ]
  },
  {
   "cell_type": "markdown",
   "metadata": {
    "id": "3secgg798917"
   },
   "source": [
    "## 0. General Set-up\n",
    "\n",
    "Here we provide general code set-up: package requirements, train-loaders, etc."
   ]
  },
  {
   "cell_type": "markdown",
   "metadata": {
    "id": "datYw3FkO45i"
   },
   "source": [
    "**IMPORTANT:** For all notebooks, before starting, make sure to click\n",
    "\n",
    "`File` -> `Save a copy in Drive...`\n",
    "\n",
    "This will start a new personal notebook file that you can save and edit.\n",
    "If you don't do this step and are only executing in \"Playground Mode\", your progress will not be saved!"
   ]
  },
  {
   "cell_type": "code",
   "execution_count": 1,
   "metadata": {
    "id": "8ocl9Mfl8LH6"
   },
   "outputs": [
    {
     "ename": "ModuleNotFoundError",
     "evalue": "No module named 'torch'",
     "output_type": "error",
     "traceback": [
      "\u001b[1;31m---------------------------------------------------------------------------\u001b[0m",
      "\u001b[1;31mModuleNotFoundError\u001b[0m                       Traceback (most recent call last)",
      "Input \u001b[1;32mIn [1]\u001b[0m, in \u001b[0;36m<cell line: 3>\u001b[1;34m()\u001b[0m\n\u001b[0;32m      1\u001b[0m \u001b[38;5;66;03m## Some general imports we may need:\u001b[39;00m\n\u001b[0;32m      2\u001b[0m \u001b[38;5;28;01mimport\u001b[39;00m \u001b[38;5;21;01mnumpy\u001b[39;00m \u001b[38;5;28;01mas\u001b[39;00m \u001b[38;5;21;01mnp\u001b[39;00m\n\u001b[1;32m----> 3\u001b[0m \u001b[38;5;28;01mimport\u001b[39;00m \u001b[38;5;21;01mtorch\u001b[39;00m\n\u001b[0;32m      4\u001b[0m \u001b[38;5;28;01mimport\u001b[39;00m \u001b[38;5;21;01mtorch\u001b[39;00m\u001b[38;5;21;01m.\u001b[39;00m\u001b[38;5;21;01mnn\u001b[39;00m \u001b[38;5;28;01mas\u001b[39;00m \u001b[38;5;21;01mnn\u001b[39;00m\n\u001b[0;32m      5\u001b[0m \u001b[38;5;28;01mimport\u001b[39;00m \u001b[38;5;21;01mtorchvision\u001b[39;00m\n",
      "\u001b[1;31mModuleNotFoundError\u001b[0m: No module named 'torch'"
     ]
    }
   ],
   "source": [
    "## Some general imports we may need:\n",
    "import numpy as np\n",
    "import torch\n",
    "import torch.nn as nn\n",
    "import torchvision\n",
    "import torchvision.datasets as dataset\n",
    "import torchvision.transforms as transforms\n",
    "import matplotlib.pyplot as plt\n",
    "import time"
   ]
  },
  {
   "cell_type": "markdown",
   "metadata": {
    "id": "uG5SflgE9eVz"
   },
   "source": [
    "Make sure GPU is enabled: In Colab, at the top, \n",
    "\n",
    "click `Runtime` -> `Change runtime type` -> `Hardware Accelerator` -> `GPU`"
   ]
  },
  {
   "cell_type": "code",
   "execution_count": null,
   "metadata": {
    "id": "rFFtp9BmLxo9"
   },
   "outputs": [],
   "source": [
    "gpu_boole = torch.cuda.is_available()\n",
    "print(gpu_boole) ##If True, then your GPU is enabled and you are able to make use of it"
   ]
  },
  {
   "cell_type": "code",
   "execution_count": null,
   "metadata": {
    "id": "IAb83ZuC52lC"
   },
   "outputs": [],
   "source": [
    "## Basic dataloading for MNIST.\n",
    "# Just to make sure it works for the rest of this notebook.\n",
    "training = dataset.MNIST(root ='./data', transform=transforms.ToTensor(), train=True, download=True)\n",
    "testing =  dataset.MNIST(root ='./data', transform = transforms.ToTensor(), train=False, download=True)\n",
    "train_loader = torch.utils.data.DataLoader(dataset=training, batch_size = 128, shuffle=True)\n",
    "test_loader = torch.utils.data.DataLoader(dataset=testing, batch_size = 128, shuffle=False)"
   ]
  },
  {
   "cell_type": "code",
   "execution_count": null,
   "metadata": {
    "id": "iNegXCYN52aB"
   },
   "outputs": [],
   "source": [
    "## Plotting data to make sure it is correct:\n",
    "x,y = next(iter(train_loader))\n",
    "plt.imshow(x[0][0].cpu().data.numpy()) #plotting first channel of first image of MNIST\n",
    "plt.show()\n",
    "print('Label', y[0])"
   ]
  },
  {
   "cell_type": "markdown",
   "metadata": {
    "id": "h8UeQcnW51sS"
   },
   "source": [
    "If you see an image of one of training samples above, then everything is working correctly for the next section.\n",
    "\n",
    "**Some quick info about this dataset before starting:**\n",
    "* We will be using the MNIST dataset, a handwritten digit dataset consisting of 10 classes, digits 0 through 9. MNIST consists of 60k training samples and 10k test samples. The images are of shape 28 x 28 (only one channel, grayscale).\n",
    "* Typically MNIST is used as a baseline classification task for prototyping research ideas. In contemporary research, it is usually considered too easy for bonafide ideas to be validated on by itself, instead harder baselines are additionally provided. \n",
    "* For our purposes though, this dataset works well for this classroom setting and will provide us with some basic debugging experience."
   ]
  }
 ],
 "metadata": {
  "accelerator": "GPU",
  "colab": {
   "collapsed_sections": [],
   "name": "Colab_getting_started.ipynb",
   "provenance": []
  },
  "kernelspec": {
   "display_name": "Python 3 (ipykernel)",
   "language": "python",
   "name": "python3"
  },
  "language_info": {
   "codemirror_mode": {
    "name": "ipython",
    "version": 3
   },
   "file_extension": ".py",
   "mimetype": "text/x-python",
   "name": "python",
   "nbconvert_exporter": "python",
   "pygments_lexer": "ipython3",
   "version": "3.9.12"
  },
  "vscode": {
   "interpreter": {
    "hash": "e1315e6714f2518a6216a6eec3b047587d10875bf19b853b35d3e5c84c569e2a"
   }
  }
 },
 "nbformat": 4,
 "nbformat_minor": 1
}
